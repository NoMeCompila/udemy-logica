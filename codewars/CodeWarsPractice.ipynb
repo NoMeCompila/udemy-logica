{
  "nbformat": 4,
  "nbformat_minor": 0,
  "metadata": {
    "colab": {
      "provenance": [],
      "authorship_tag": "ABX9TyMyT/d9HkOAxNdmdFyS1MPH",
      "include_colab_link": true
    },
    "kernelspec": {
      "name": "python3",
      "display_name": "Python 3"
    },
    "language_info": {
      "name": "python"
    }
  },
  "cells": [
    {
      "cell_type": "markdown",
      "metadata": {
        "id": "view-in-github",
        "colab_type": "text"
      },
      "source": [
        "<a href=\"https://colab.research.google.com/github/NoMeCompila/udemy-logica/blob/master/codewars/CodeWarsPractice.ipynb\" target=\"_parent\"><img src=\"https://colab.research.google.com/assets/colab-badge.svg\" alt=\"Open In Colab\"/></a>"
      ]
    },
    {
      "cell_type": "code",
      "source": [
        "import re"
      ],
      "metadata": {
        "id": "5iK_5F6-OlND"
      },
      "execution_count": null,
      "outputs": []
    },
    {
      "cell_type": "code",
      "execution_count": null,
      "metadata": {
        "id": "ajU8RlWD4-E7"
      },
      "outputs": [],
      "source": [
        "def split_sentence(sentence: str) -> list:\n",
        "    \"\"\"\n",
        "    Divide la cadena de caracteres por cada espacio que encuentra entre el medio de las palabras\n",
        "    :param: chain: str\n",
        "    :return: str\n",
        "    \"\"\"\n",
        "    return sentence.split(\" \")"
      ]
    },
    {
      "cell_type": "code",
      "source": [
        "def get_first_char(sentence: str) -> str:\n",
        "    \"\"\"\n",
        "    retorna la primer letra de una palabra\n",
        "    :param: chain: str\n",
        "    :return: str\n",
        "    \"\"\"\n",
        "    return sentence[0]"
      ],
      "metadata": {
        "id": "qeDH6DMs9rHE"
      },
      "execution_count": null,
      "outputs": []
    },
    {
      "cell_type": "code",
      "source": [
        "def first_char_at_last(sentence: str) -> str:\n",
        "    return sentence[1:] + get_first_char(sentence)"
      ],
      "metadata": {
        "id": "kC6vLwte_iq-"
      },
      "execution_count": null,
      "outputs": []
    },
    {
      "cell_type": "code",
      "source": [
        "def add_ay(sentence: str) -> str:\n",
        "    return sentence + 'ay'"
      ],
      "metadata": {
        "id": "l7Brj23CAzv9"
      },
      "execution_count": null,
      "outputs": []
    },
    {
      "cell_type": "code",
      "source": [
        "def new_format(sentence: str) -> str:\n",
        "    return add_ay(first_char_at_last(sentence))"
      ],
      "metadata": {
        "id": "efOXHnbqBLHC"
      },
      "execution_count": null,
      "outputs": []
    },
    {
      "cell_type": "code",
      "source": [
        "def formated_list(chain: list) -> list:\n",
        "    pattern = re.compile('^[A-Za-z]+$')\n",
        "    # return [new_format(x) for x in chain if is_only_letters(x): x]\n",
        "    lista = []\n",
        "    for word in chain:\n",
        "        if is_only_letters(word):\n",
        "            lista.append(new_format(word))\n",
        "        else:\n",
        "            lista.append(word)\n",
        "    return lista"
      ],
      "metadata": {
        "id": "JHfssRQpBi8_"
      },
      "execution_count": null,
      "outputs": []
    },
    {
      "cell_type": "code",
      "source": [
        "def is_only_letters(string):\n",
        "    pattern = re.compile('^[A-Za-z]+$')\n",
        "    return bool(pattern.match(string))"
      ],
      "metadata": {
        "id": "XnUTDoxtFhZH"
      },
      "execution_count": null,
      "outputs": []
    },
    {
      "cell_type": "code",
      "source": [
        "print(is_only_letters('Fernando'))"
      ],
      "metadata": {
        "colab": {
          "base_uri": "https://localhost:8080/"
        },
        "id": "hvPVLheMHev4",
        "outputId": "e0eb7067-764f-4ecd-b4f2-eefb3dbf7448"
      },
      "execution_count": null,
      "outputs": [
        {
          "output_type": "stream",
          "name": "stdout",
          "text": [
            "True\n"
          ]
        }
      ]
    },
    {
      "cell_type": "code",
      "source": [
        "def join_formatted_list(chain: list) -> list:\n",
        "    return \" \".join(formated_list(chain))"
      ],
      "metadata": {
        "id": "B7lw1fwCDNAZ"
      },
      "execution_count": null,
      "outputs": []
    },
    {
      "cell_type": "code",
      "source": [
        "def pig_it(sentence: str) -> str:\n",
        "    return join_formatted_list(split_sentence(sentence))"
      ],
      "metadata": {
        "id": "ykESAAzWC_PK"
      },
      "execution_count": null,
      "outputs": []
    },
    {
      "cell_type": "code",
      "source": [
        "# TEST\n",
        "print(pig_it('Hello world !'))"
      ],
      "metadata": {
        "colab": {
          "base_uri": "https://localhost:8080/"
        },
        "id": "1HPevS_98R5G",
        "outputId": "26a5cc58-b8fe-4f20-c14b-9ae63ba09272"
      },
      "execution_count": null,
      "outputs": [
        {
          "output_type": "stream",
          "name": "stdout",
          "text": [
            "elloHay orldway !\n"
          ]
        }
      ]
    }
  ]
}